{
 "cells": [
  {
   "attachments": {},
   "cell_type": "markdown",
   "metadata": {},
   "source": [
    "# 4. Exploratory Data Analysis (EDA)\n",
    "- **Data 그 자체**만으로부터 인사이트를 얻어내는 접근법! ex)통계적으로, 시각화\n",
    "\n",
    "**탐색적 데이터 분석을 통해 데이터를 통달해봅시다.** with [Titanic Data](https://www.kaggle.com/c/titanic)\n",
    "\n",
    "0. 라이브러리 준비\n",
    "1. 분석의 목적(명확)과 변수 확인(Column)\n",
    "2. 데이터 전체적으로 살펴보기(상관관계, NaN)\n",
    "3. 데이터의 개별 속성 파악하기"
   ]
  },
  {
   "cell_type": "markdown",
   "metadata": {},
   "source": [
    "## 0. 라이브러리 준비"
   ]
  },
  {
   "cell_type": "code",
   "execution_count": 1,
   "metadata": {},
   "outputs": [],
   "source": [
    "import numpy as np\n",
    "import pandas as pd\n",
    "import matplotlib.pyplot as plt\n",
    "import seaborn as sns\n",
    "\n",
    "%matplotlib inline"
   ]
  },
  {
   "cell_type": "code",
   "execution_count": 2,
   "metadata": {},
   "outputs": [],
   "source": [
    "titanic = pd.read_csv(\"../data/titanic/train.csv\")"
   ]
  },
  {
   "attachments": {},
   "cell_type": "markdown",
   "metadata": {},
   "source": [
    "## 1. 분석의 목적과 변수 확인\n",
    "- 어떤사람들이 살았을까"
   ]
  },
  {
   "cell_type": "code",
   "execution_count": 4,
   "metadata": {},
   "outputs": [
    {
     "data": {
      "text/html": [
       "<div>\n",
       "<style scoped>\n",
       "    .dataframe tbody tr th:only-of-type {\n",
       "        vertical-align: middle;\n",
       "    }\n",
       "\n",
       "    .dataframe tbody tr th {\n",
       "        vertical-align: top;\n",
       "    }\n",
       "\n",
       "    .dataframe thead th {\n",
       "        text-align: right;\n",
       "    }\n",
       "</style>\n",
       "<table border=\"1\" class=\"dataframe\">\n",
       "  <thead>\n",
       "    <tr style=\"text-align: right;\">\n",
       "      <th></th>\n",
       "      <th>PassengerId</th>\n",
       "      <th>Survived</th>\n",
       "      <th>Pclass</th>\n",
       "      <th>Name</th>\n",
       "      <th>Sex</th>\n",
       "      <th>Age</th>\n",
       "      <th>SibSp</th>\n",
       "      <th>Parch</th>\n",
       "      <th>Ticket</th>\n",
       "      <th>Fare</th>\n",
       "      <th>Cabin</th>\n",
       "      <th>Embarked</th>\n",
       "    </tr>\n",
       "  </thead>\n",
       "  <tbody>\n",
       "    <tr>\n",
       "      <th>0</th>\n",
       "      <td>1</td>\n",
       "      <td>0</td>\n",
       "      <td>3</td>\n",
       "      <td>Braund, Mr. Owen Harris</td>\n",
       "      <td>male</td>\n",
       "      <td>22.0</td>\n",
       "      <td>1</td>\n",
       "      <td>0</td>\n",
       "      <td>A/5 21171</td>\n",
       "      <td>7.2500</td>\n",
       "      <td>NaN</td>\n",
       "      <td>S</td>\n",
       "    </tr>\n",
       "    <tr>\n",
       "      <th>1</th>\n",
       "      <td>2</td>\n",
       "      <td>1</td>\n",
       "      <td>1</td>\n",
       "      <td>Cumings, Mrs. John Bradley (Florence Briggs Th...</td>\n",
       "      <td>female</td>\n",
       "      <td>38.0</td>\n",
       "      <td>1</td>\n",
       "      <td>0</td>\n",
       "      <td>PC 17599</td>\n",
       "      <td>71.2833</td>\n",
       "      <td>C85</td>\n",
       "      <td>C</td>\n",
       "    </tr>\n",
       "    <tr>\n",
       "      <th>2</th>\n",
       "      <td>3</td>\n",
       "      <td>1</td>\n",
       "      <td>3</td>\n",
       "      <td>Heikkinen, Miss. Laina</td>\n",
       "      <td>female</td>\n",
       "      <td>26.0</td>\n",
       "      <td>0</td>\n",
       "      <td>0</td>\n",
       "      <td>STON/O2. 3101282</td>\n",
       "      <td>7.9250</td>\n",
       "      <td>NaN</td>\n",
       "      <td>S</td>\n",
       "    </tr>\n",
       "    <tr>\n",
       "      <th>3</th>\n",
       "      <td>4</td>\n",
       "      <td>1</td>\n",
       "      <td>1</td>\n",
       "      <td>Futrelle, Mrs. Jacques Heath (Lily May Peel)</td>\n",
       "      <td>female</td>\n",
       "      <td>35.0</td>\n",
       "      <td>1</td>\n",
       "      <td>0</td>\n",
       "      <td>113803</td>\n",
       "      <td>53.1000</td>\n",
       "      <td>C123</td>\n",
       "      <td>S</td>\n",
       "    </tr>\n",
       "    <tr>\n",
       "      <th>4</th>\n",
       "      <td>5</td>\n",
       "      <td>0</td>\n",
       "      <td>3</td>\n",
       "      <td>Allen, Mr. William Henry</td>\n",
       "      <td>male</td>\n",
       "      <td>35.0</td>\n",
       "      <td>0</td>\n",
       "      <td>0</td>\n",
       "      <td>373450</td>\n",
       "      <td>8.0500</td>\n",
       "      <td>NaN</td>\n",
       "      <td>S</td>\n",
       "    </tr>\n",
       "  </tbody>\n",
       "</table>\n",
       "</div>"
      ],
      "text/plain": [
       "   PassengerId  Survived  Pclass  \\\n",
       "0            1         0       3   \n",
       "1            2         1       1   \n",
       "2            3         1       3   \n",
       "3            4         1       1   \n",
       "4            5         0       3   \n",
       "\n",
       "                                                Name     Sex   Age  SibSp  \\\n",
       "0                            Braund, Mr. Owen Harris    male  22.0      1   \n",
       "1  Cumings, Mrs. John Bradley (Florence Briggs Th...  female  38.0      1   \n",
       "2                             Heikkinen, Miss. Laina  female  26.0      0   \n",
       "3       Futrelle, Mrs. Jacques Heath (Lily May Peel)  female  35.0      1   \n",
       "4                           Allen, Mr. William Henry    male  35.0      0   \n",
       "\n",
       "   Parch            Ticket     Fare Cabin Embarked  \n",
       "0      0         A/5 21171   7.2500   NaN        S  \n",
       "1      0          PC 17599  71.2833   C85        C  \n",
       "2      0  STON/O2. 3101282   7.9250   NaN        S  \n",
       "3      0            113803  53.1000  C123        S  \n",
       "4      0            373450   8.0500   NaN        S  "
      ]
     },
     "execution_count": 4,
     "metadata": {},
     "output_type": "execute_result"
    }
   ],
   "source": [
    "titanic.head(5)"
   ]
  },
  {
   "cell_type": "code",
   "execution_count": 5,
   "metadata": {},
   "outputs": [
    {
     "data": {
      "text/plain": [
       "PassengerId      int64\n",
       "Survived         int64\n",
       "Pclass           int64\n",
       "Name            object\n",
       "Sex             object\n",
       "Age            float64\n",
       "SibSp            int64\n",
       "Parch            int64\n",
       "Ticket          object\n",
       "Fare           float64\n",
       "Cabin           object\n",
       "Embarked        object\n",
       "dtype: object"
      ]
     },
     "execution_count": 5,
     "metadata": {},
     "output_type": "execute_result"
    }
   ],
   "source": [
    "## 각 Column Data type 확인\n",
    "\n",
    "titanic.dtypes"
   ]
  },
  {
   "cell_type": "markdown",
   "metadata": {},
   "source": [
    "## 2. 데이터 전체적으로 살펴보기"
   ]
  },
  {
   "cell_type": "code",
   "execution_count": 6,
   "metadata": {},
   "outputs": [
    {
     "data": {
      "text/html": [
       "<div>\n",
       "<style scoped>\n",
       "    .dataframe tbody tr th:only-of-type {\n",
       "        vertical-align: middle;\n",
       "    }\n",
       "\n",
       "    .dataframe tbody tr th {\n",
       "        vertical-align: top;\n",
       "    }\n",
       "\n",
       "    .dataframe thead th {\n",
       "        text-align: right;\n",
       "    }\n",
       "</style>\n",
       "<table border=\"1\" class=\"dataframe\">\n",
       "  <thead>\n",
       "    <tr style=\"text-align: right;\">\n",
       "      <th></th>\n",
       "      <th>PassengerId</th>\n",
       "      <th>Survived</th>\n",
       "      <th>Pclass</th>\n",
       "      <th>Age</th>\n",
       "      <th>SibSp</th>\n",
       "      <th>Parch</th>\n",
       "      <th>Fare</th>\n",
       "    </tr>\n",
       "  </thead>\n",
       "  <tbody>\n",
       "    <tr>\n",
       "      <th>count</th>\n",
       "      <td>891.000000</td>\n",
       "      <td>891.000000</td>\n",
       "      <td>891.000000</td>\n",
       "      <td>714.000000</td>\n",
       "      <td>891.000000</td>\n",
       "      <td>891.000000</td>\n",
       "      <td>891.000000</td>\n",
       "    </tr>\n",
       "    <tr>\n",
       "      <th>mean</th>\n",
       "      <td>446.000000</td>\n",
       "      <td>0.383838</td>\n",
       "      <td>2.308642</td>\n",
       "      <td>29.699118</td>\n",
       "      <td>0.523008</td>\n",
       "      <td>0.381594</td>\n",
       "      <td>32.204208</td>\n",
       "    </tr>\n",
       "    <tr>\n",
       "      <th>std</th>\n",
       "      <td>257.353842</td>\n",
       "      <td>0.486592</td>\n",
       "      <td>0.836071</td>\n",
       "      <td>14.526497</td>\n",
       "      <td>1.102743</td>\n",
       "      <td>0.806057</td>\n",
       "      <td>49.693429</td>\n",
       "    </tr>\n",
       "    <tr>\n",
       "      <th>min</th>\n",
       "      <td>1.000000</td>\n",
       "      <td>0.000000</td>\n",
       "      <td>1.000000</td>\n",
       "      <td>0.420000</td>\n",
       "      <td>0.000000</td>\n",
       "      <td>0.000000</td>\n",
       "      <td>0.000000</td>\n",
       "    </tr>\n",
       "    <tr>\n",
       "      <th>25%</th>\n",
       "      <td>223.500000</td>\n",
       "      <td>0.000000</td>\n",
       "      <td>2.000000</td>\n",
       "      <td>20.125000</td>\n",
       "      <td>0.000000</td>\n",
       "      <td>0.000000</td>\n",
       "      <td>7.910400</td>\n",
       "    </tr>\n",
       "    <tr>\n",
       "      <th>50%</th>\n",
       "      <td>446.000000</td>\n",
       "      <td>0.000000</td>\n",
       "      <td>3.000000</td>\n",
       "      <td>28.000000</td>\n",
       "      <td>0.000000</td>\n",
       "      <td>0.000000</td>\n",
       "      <td>14.454200</td>\n",
       "    </tr>\n",
       "    <tr>\n",
       "      <th>75%</th>\n",
       "      <td>668.500000</td>\n",
       "      <td>1.000000</td>\n",
       "      <td>3.000000</td>\n",
       "      <td>38.000000</td>\n",
       "      <td>1.000000</td>\n",
       "      <td>0.000000</td>\n",
       "      <td>31.000000</td>\n",
       "    </tr>\n",
       "    <tr>\n",
       "      <th>max</th>\n",
       "      <td>891.000000</td>\n",
       "      <td>1.000000</td>\n",
       "      <td>3.000000</td>\n",
       "      <td>80.000000</td>\n",
       "      <td>8.000000</td>\n",
       "      <td>6.000000</td>\n",
       "      <td>512.329200</td>\n",
       "    </tr>\n",
       "  </tbody>\n",
       "</table>\n",
       "</div>"
      ],
      "text/plain": [
       "       PassengerId    Survived      Pclass         Age       SibSp  \\\n",
       "count   891.000000  891.000000  891.000000  714.000000  891.000000   \n",
       "mean    446.000000    0.383838    2.308642   29.699118    0.523008   \n",
       "std     257.353842    0.486592    0.836071   14.526497    1.102743   \n",
       "min       1.000000    0.000000    1.000000    0.420000    0.000000   \n",
       "25%     223.500000    0.000000    2.000000   20.125000    0.000000   \n",
       "50%     446.000000    0.000000    3.000000   28.000000    0.000000   \n",
       "75%     668.500000    1.000000    3.000000   38.000000    1.000000   \n",
       "max     891.000000    1.000000    3.000000   80.000000    8.000000   \n",
       "\n",
       "            Parch        Fare  \n",
       "count  891.000000  891.000000  \n",
       "mean     0.381594   32.204208  \n",
       "std      0.806057   49.693429  \n",
       "min      0.000000    0.000000  \n",
       "25%      0.000000    7.910400  \n",
       "50%      0.000000   14.454200  \n",
       "75%      0.000000   31.000000  \n",
       "max      6.000000  512.329200  "
      ]
     },
     "execution_count": 6,
     "metadata": {},
     "output_type": "execute_result"
    }
   ],
   "source": [
    "## Data 전체 정보를 얻는 함수 : .describe()\n",
    "\n",
    "titanic.describe() # 수치형 데이터에 대한 요약만을 제공"
   ]
  },
  {
   "cell_type": "code",
   "execution_count": 7,
   "metadata": {},
   "outputs": [
    {
     "data": {
      "text/html": [
       "<div>\n",
       "<style scoped>\n",
       "    .dataframe tbody tr th:only-of-type {\n",
       "        vertical-align: middle;\n",
       "    }\n",
       "\n",
       "    .dataframe tbody tr th {\n",
       "        vertical-align: top;\n",
       "    }\n",
       "\n",
       "    .dataframe thead th {\n",
       "        text-align: right;\n",
       "    }\n",
       "</style>\n",
       "<table border=\"1\" class=\"dataframe\">\n",
       "  <thead>\n",
       "    <tr style=\"text-align: right;\">\n",
       "      <th></th>\n",
       "      <th>PassengerId</th>\n",
       "      <th>Survived</th>\n",
       "      <th>Pclass</th>\n",
       "      <th>Age</th>\n",
       "      <th>SibSp</th>\n",
       "      <th>Parch</th>\n",
       "      <th>Fare</th>\n",
       "    </tr>\n",
       "  </thead>\n",
       "  <tbody>\n",
       "    <tr>\n",
       "      <th>PassengerId</th>\n",
       "      <td>1.000000</td>\n",
       "      <td>-0.005007</td>\n",
       "      <td>-0.035144</td>\n",
       "      <td>0.036847</td>\n",
       "      <td>-0.057527</td>\n",
       "      <td>-0.001652</td>\n",
       "      <td>0.012658</td>\n",
       "    </tr>\n",
       "    <tr>\n",
       "      <th>Survived</th>\n",
       "      <td>-0.005007</td>\n",
       "      <td>1.000000</td>\n",
       "      <td>-0.338481</td>\n",
       "      <td>-0.077221</td>\n",
       "      <td>-0.035322</td>\n",
       "      <td>0.081629</td>\n",
       "      <td>0.257307</td>\n",
       "    </tr>\n",
       "    <tr>\n",
       "      <th>Pclass</th>\n",
       "      <td>-0.035144</td>\n",
       "      <td>-0.338481</td>\n",
       "      <td>1.000000</td>\n",
       "      <td>-0.369226</td>\n",
       "      <td>0.083081</td>\n",
       "      <td>0.018443</td>\n",
       "      <td>-0.549500</td>\n",
       "    </tr>\n",
       "    <tr>\n",
       "      <th>Age</th>\n",
       "      <td>0.036847</td>\n",
       "      <td>-0.077221</td>\n",
       "      <td>-0.369226</td>\n",
       "      <td>1.000000</td>\n",
       "      <td>-0.308247</td>\n",
       "      <td>-0.189119</td>\n",
       "      <td>0.096067</td>\n",
       "    </tr>\n",
       "    <tr>\n",
       "      <th>SibSp</th>\n",
       "      <td>-0.057527</td>\n",
       "      <td>-0.035322</td>\n",
       "      <td>0.083081</td>\n",
       "      <td>-0.308247</td>\n",
       "      <td>1.000000</td>\n",
       "      <td>0.414838</td>\n",
       "      <td>0.159651</td>\n",
       "    </tr>\n",
       "    <tr>\n",
       "      <th>Parch</th>\n",
       "      <td>-0.001652</td>\n",
       "      <td>0.081629</td>\n",
       "      <td>0.018443</td>\n",
       "      <td>-0.189119</td>\n",
       "      <td>0.414838</td>\n",
       "      <td>1.000000</td>\n",
       "      <td>0.216225</td>\n",
       "    </tr>\n",
       "    <tr>\n",
       "      <th>Fare</th>\n",
       "      <td>0.012658</td>\n",
       "      <td>0.257307</td>\n",
       "      <td>-0.549500</td>\n",
       "      <td>0.096067</td>\n",
       "      <td>0.159651</td>\n",
       "      <td>0.216225</td>\n",
       "      <td>1.000000</td>\n",
       "    </tr>\n",
       "  </tbody>\n",
       "</table>\n",
       "</div>"
      ],
      "text/plain": [
       "             PassengerId  Survived    Pclass       Age     SibSp     Parch  \\\n",
       "PassengerId     1.000000 -0.005007 -0.035144  0.036847 -0.057527 -0.001652   \n",
       "Survived       -0.005007  1.000000 -0.338481 -0.077221 -0.035322  0.081629   \n",
       "Pclass         -0.035144 -0.338481  1.000000 -0.369226  0.083081  0.018443   \n",
       "Age             0.036847 -0.077221 -0.369226  1.000000 -0.308247 -0.189119   \n",
       "SibSp          -0.057527 -0.035322  0.083081 -0.308247  1.000000  0.414838   \n",
       "Parch          -0.001652  0.081629  0.018443 -0.189119  0.414838  1.000000   \n",
       "Fare            0.012658  0.257307 -0.549500  0.096067  0.159651  0.216225   \n",
       "\n",
       "                 Fare  \n",
       "PassengerId  0.012658  \n",
       "Survived     0.257307  \n",
       "Pclass      -0.549500  \n",
       "Age          0.096067  \n",
       "SibSp        0.159651  \n",
       "Parch        0.216225  \n",
       "Fare         1.000000  "
      ]
     },
     "execution_count": 7,
     "metadata": {},
     "output_type": "execute_result"
    }
   ],
   "source": [
    "## 상관계수 확인\n",
    "\n",
    "titanic.corr()\n",
    "# Correlatoin is NOT causation"
   ]
  },
  {
   "cell_type": "code",
   "execution_count": 8,
   "metadata": {},
   "outputs": [
    {
     "data": {
      "text/plain": [
       "PassengerId      0\n",
       "Survived         0\n",
       "Pclass           0\n",
       "Name             0\n",
       "Sex              0\n",
       "Age            177\n",
       "SibSp            0\n",
       "Parch            0\n",
       "Ticket           0\n",
       "Fare             0\n",
       "Cabin          687\n",
       "Embarked         2\n",
       "dtype: int64"
      ]
     },
     "execution_count": 8,
     "metadata": {},
     "output_type": "execute_result"
    }
   ],
   "source": [
    "## 결측치 확인\n",
    "\n",
    "titanic.isnull().sum()"
   ]
  },
  {
   "cell_type": "markdown",
   "metadata": {},
   "source": [
    "## 3. 데이터의 개별 속성 파악하기"
   ]
  },
  {
   "cell_type": "code",
   "execution_count": 9,
   "metadata": {},
   "outputs": [
    {
     "data": {
      "text/plain": [
       "0    549\n",
       "1    342\n",
       "Name: Survived, dtype: int64"
      ]
     },
     "execution_count": 9,
     "metadata": {},
     "output_type": "execute_result"
    }
   ],
   "source": [
    "## 생존자, 사망자 Check\n",
    "\n",
    "titanic[\"Survived\"].sum()\n",
    "\n",
    "titanic[\"Survived\"].value_counts()"
   ]
  },
  {
   "cell_type": "code",
   "execution_count": 10,
   "metadata": {},
   "outputs": [
    {
     "data": {
      "image/png": "[encoded data removed]",
      "text/plain": [
       "<Figure size 640x480 with 1 Axes>"
      ]
     },
     "metadata": {},
     "output_type": "display_data"
    }
   ],
   "source": [
    "## 생존자수와 사망자수 그려보기 sns.countplot()\n",
    "\n",
    "sns.countplot(x='Survived', data=titanic)\n",
    "plt.show()"
   ]
  },
  {
   "cell_type": "code",
   "execution_count": 11,
   "metadata": {},
   "outputs": [
    {
     "data": {
      "text/html": [
       "<div>\n",
       "<style scoped>\n",
       "    .dataframe tbody tr th:only-of-type {\n",
       "        vertical-align: middle;\n",
       "    }\n",
       "\n",
       "    .dataframe tbody tr th {\n",
       "        vertical-align: top;\n",
       "    }\n",
       "\n",
       "    .dataframe thead th {\n",
       "        text-align: right;\n",
       "    }\n",
       "</style>\n",
       "<table border=\"1\" class=\"dataframe\">\n",
       "  <thead>\n",
       "    <tr style=\"text-align: right;\">\n",
       "      <th></th>\n",
       "      <th>Survived</th>\n",
       "    </tr>\n",
       "    <tr>\n",
       "      <th>Pclass</th>\n",
       "      <th></th>\n",
       "    </tr>\n",
       "  </thead>\n",
       "  <tbody>\n",
       "    <tr>\n",
       "      <th>1</th>\n",
       "      <td>216</td>\n",
       "    </tr>\n",
       "    <tr>\n",
       "      <th>2</th>\n",
       "      <td>184</td>\n",
       "    </tr>\n",
       "    <tr>\n",
       "      <th>3</th>\n",
       "      <td>491</td>\n",
       "    </tr>\n",
       "  </tbody>\n",
       "</table>\n",
       "</div>"
      ],
      "text/plain": [
       "        Survived\n",
       "Pclass          \n",
       "1            216\n",
       "2            184\n",
       "3            491"
      ]
     },
     "execution_count": 11,
     "metadata": {},
     "output_type": "execute_result"
    }
   ],
   "source": [
    "## Pclass 에 따른 인원 파악\n",
    "\n",
    "titanic[['Pclass','Survived']].groupby(['Pclass']).count()"
   ]
  },
  {
   "cell_type": "code",
   "execution_count": 12,
   "metadata": {},
   "outputs": [
    {
     "data": {
      "text/html": [
       "<div>\n",
       "<style scoped>\n",
       "    .dataframe tbody tr th:only-of-type {\n",
       "        vertical-align: middle;\n",
       "    }\n",
       "\n",
       "    .dataframe tbody tr th {\n",
       "        vertical-align: top;\n",
       "    }\n",
       "\n",
       "    .dataframe thead th {\n",
       "        text-align: right;\n",
       "    }\n",
       "</style>\n",
       "<table border=\"1\" class=\"dataframe\">\n",
       "  <thead>\n",
       "    <tr style=\"text-align: right;\">\n",
       "      <th></th>\n",
       "      <th>Survived</th>\n",
       "    </tr>\n",
       "    <tr>\n",
       "      <th>Pclass</th>\n",
       "      <th></th>\n",
       "    </tr>\n",
       "  </thead>\n",
       "  <tbody>\n",
       "    <tr>\n",
       "      <th>1</th>\n",
       "      <td>136</td>\n",
       "    </tr>\n",
       "    <tr>\n",
       "      <th>2</th>\n",
       "      <td>87</td>\n",
       "    </tr>\n",
       "    <tr>\n",
       "      <th>3</th>\n",
       "      <td>119</td>\n",
       "    </tr>\n",
       "  </tbody>\n",
       "</table>\n",
       "</div>"
      ],
      "text/plain": [
       "        Survived\n",
       "Pclass          \n",
       "1            136\n",
       "2             87\n",
       "3            119"
      ]
     },
     "execution_count": 12,
     "metadata": {},
     "output_type": "execute_result"
    }
   ],
   "source": [
    "# 생존자 인원\n",
    "\n",
    "titanic[['Pclass','Survived']].groupby(['Pclass']).sum()"
   ]
  },
  {
   "cell_type": "code",
   "execution_count": 13,
   "metadata": {},
   "outputs": [
    {
     "data": {
      "text/html": [
       "<div>\n",
       "<style scoped>\n",
       "    .dataframe tbody tr th:only-of-type {\n",
       "        vertical-align: middle;\n",
       "    }\n",
       "\n",
       "    .dataframe tbody tr th {\n",
       "        vertical-align: top;\n",
       "    }\n",
       "\n",
       "    .dataframe thead th {\n",
       "        text-align: right;\n",
       "    }\n",
       "</style>\n",
       "<table border=\"1\" class=\"dataframe\">\n",
       "  <thead>\n",
       "    <tr style=\"text-align: right;\">\n",
       "      <th></th>\n",
       "      <th>Survived</th>\n",
       "    </tr>\n",
       "    <tr>\n",
       "      <th>Pclass</th>\n",
       "      <th></th>\n",
       "    </tr>\n",
       "  </thead>\n",
       "  <tbody>\n",
       "    <tr>\n",
       "      <th>1</th>\n",
       "      <td>0.629630</td>\n",
       "    </tr>\n",
       "    <tr>\n",
       "      <th>2</th>\n",
       "      <td>0.472826</td>\n",
       "    </tr>\n",
       "    <tr>\n",
       "      <th>3</th>\n",
       "      <td>0.242363</td>\n",
       "    </tr>\n",
       "  </tbody>\n",
       "</table>\n",
       "</div>"
      ],
      "text/plain": [
       "        Survived\n",
       "Pclass          \n",
       "1       0.629630\n",
       "2       0.472826\n",
       "3       0.242363"
      ]
     },
     "execution_count": 13,
     "metadata": {},
     "output_type": "execute_result"
    }
   ],
   "source": [
    "# 생존 비율\n",
    "\n",
    "titanic[['Pclass','Survived']].groupby(['Pclass']).mean()"
   ]
  },
  {
   "cell_type": "code",
   "execution_count": 14,
   "metadata": {},
   "outputs": [
    {
     "data": {
      "text/plain": [
       "[]"
      ]
     },
     "execution_count": 14,
     "metadata": {},
     "output_type": "execute_result"
    },
    {
     "data": {
      "image/png": "[encoded data removed]",
      "text/plain": [
       "<Figure size 640x480 with 2 Axes>"
      ]
     },
     "metadata": {},
     "output_type": "display_data"
    }
   ],
   "source": [
    "# 히트맵 활용\n",
    "\n",
    "sns.heatmap(titanic[['Pclass','Survived']].groupby(['Pclass']).mean())\n",
    "plt.plot()"
   ]
  },
  {
   "cell_type": "code",
   "execution_count": 15,
   "metadata": {},
   "outputs": [
    {
     "data": {
      "text/plain": [
       "Survived  Sex   \n",
       "0         female     81\n",
       "          male      468\n",
       "1         female    233\n",
       "          male      109\n",
       "Name: Survived, dtype: int64"
      ]
     },
     "execution_count": 15,
     "metadata": {},
     "output_type": "execute_result"
    }
   ],
   "source": [
    "# Sex\n",
    "titanic.groupby(['Survived','Sex'])['Survived'].count()"
   ]
  },
  {
   "cell_type": "code",
   "execution_count": 16,
   "metadata": {},
   "outputs": [
    {
     "data": {
      "image/png": "[encoded data removed]",
      "text/plain": [
       "<Figure size 1000x500 with 2 Axes>"
      ]
     },
     "metadata": {},
     "output_type": "display_data"
    }
   ],
   "source": [
    "# sns.catplot 사용\n",
    "\n",
    "sns.catplot(x='Sex',col='Survived', kind='count', data=titanic)\n",
    "plt.show()"
   ]
  },
  {
   "cell_type": "code",
   "execution_count": 17,
   "metadata": {},
   "outputs": [
    {
     "data": {
      "text/plain": [
       "count    714.000000\n",
       "mean      29.699118\n",
       "std       14.526497\n",
       "min        0.420000\n",
       "25%       20.125000\n",
       "50%       28.000000\n",
       "75%       38.000000\n",
       "max       80.000000\n",
       "Name: Age, dtype: float64"
      ]
     },
     "execution_count": 17,
     "metadata": {},
     "output_type": "execute_result"
    }
   ],
   "source": [
    "# Age\n",
    "# 결측치 존재 유의\n",
    "\n",
    "titanic.describe()['Age']"
   ]
  },
  {
   "cell_type": "code",
   "execution_count": 18,
   "metadata": {},
   "outputs": [
    {
     "data": {
      "image/png": "[encoded data removed]",
      "text/plain": [
       "<Figure size 1000x500 with 1 Axes>"
      ]
     },
     "metadata": {},
     "output_type": "display_data"
    }
   ],
   "source": [
    "## Survived 1, 0과 Age의 경향성\n",
    "\n",
    "fig, ax = plt.subplots(1,1, figsize=(10,5))\n",
    "sns.kdeplot(x=titanic[titanic['Survived'] == 0]['Age'], ax=ax)\n",
    "sns.kdeplot(x=titanic[titanic.Survived == 1]['Age'], ax=ax)\n",
    "\n",
    "plt.legend(['Survived','Dead'])\n",
    "\n",
    "plt.show()"
   ]
  },
  {
   "cell_type": "code",
   "execution_count": 19,
   "metadata": {},
   "outputs": [
    {
     "data": {
      "image/png": "[encoded data removed]",
      "text/plain": [
       "<Figure size 598x500 with 1 Axes>"
      ]
     },
     "metadata": {},
     "output_type": "display_data"
    }
   ],
   "source": [
    "# Sex + Pclass vs Survived\n",
    "\n",
    "sns.catplot(x='Pclass', y='Survived', hue='Sex', kind='point', data=titanic)\n",
    "plt.show()"
   ]
  },
  {
   "cell_type": "code",
   "execution_count": 20,
   "metadata": {},
   "outputs": [
    {
     "data": {
      "image/png": "[encoded data removed]",
      "text/plain": [
       "<Figure size 640x480 with 1 Axes>"
      ]
     },
     "metadata": {},
     "output_type": "display_data"
    }
   ],
   "source": [
    "# Age + Pclass\n",
    "\n",
    "# scipy가 있어야함\n",
    "# titanic['Age'][titanic['Pclass']==1].plot(kind='kde')\n",
    "# titanic['Age'][titanic['Pclass']==2].plot(kind='kde')\n",
    "# titanic['Age'][titanic['Pclass']==3].plot(kind='kde')\n",
    "\n",
    "# fig, ax = plt.subplots(1,1, figsize=(10,5))\n",
    "sns.kdeplot(x=titanic['Age'][titanic['Pclass']==1])\n",
    "sns.kdeplot(x=titanic['Age'][titanic['Pclass']==2])\n",
    "sns.kdeplot(x=titanic['Age'][titanic['Pclass']==3])\n",
    "\n",
    "plt.legend(['1stClass','2ndClass','3rdClass'])\n",
    "plt.show()"
   ]
  },
  {
   "attachments": {},
   "cell_type": "markdown",
   "metadata": {},
   "source": [
    "## Mission : It's Your Turn!\n",
    "\n",
    "### 1. 본문에서 언급된 Feature를 제외하고 유의미한 Feature를 1개 이상 찾아봅시다.\n",
    "\n",
    "- Hint : Fare? Sibsp? Parch?"
   ]
  },
  {
   "cell_type": "code",
   "execution_count": 21,
   "metadata": {},
   "outputs": [
    {
     "data": {
      "text/html": [
       "<div>\n",
       "<style scoped>\n",
       "    .dataframe tbody tr th:only-of-type {\n",
       "        vertical-align: middle;\n",
       "    }\n",
       "\n",
       "    .dataframe tbody tr th {\n",
       "        vertical-align: top;\n",
       "    }\n",
       "\n",
       "    .dataframe thead th {\n",
       "        text-align: right;\n",
       "    }\n",
       "</style>\n",
       "<table border=\"1\" class=\"dataframe\">\n",
       "  <thead>\n",
       "    <tr style=\"text-align: right;\">\n",
       "      <th></th>\n",
       "      <th>Survived</th>\n",
       "    </tr>\n",
       "    <tr>\n",
       "      <th>SibSp</th>\n",
       "      <th></th>\n",
       "    </tr>\n",
       "  </thead>\n",
       "  <tbody>\n",
       "    <tr>\n",
       "      <th>0</th>\n",
       "      <td>608</td>\n",
       "    </tr>\n",
       "    <tr>\n",
       "      <th>1</th>\n",
       "      <td>209</td>\n",
       "    </tr>\n",
       "    <tr>\n",
       "      <th>2</th>\n",
       "      <td>28</td>\n",
       "    </tr>\n",
       "    <tr>\n",
       "      <th>3</th>\n",
       "      <td>16</td>\n",
       "    </tr>\n",
       "    <tr>\n",
       "      <th>4</th>\n",
       "      <td>18</td>\n",
       "    </tr>\n",
       "    <tr>\n",
       "      <th>5</th>\n",
       "      <td>5</td>\n",
       "    </tr>\n",
       "    <tr>\n",
       "      <th>8</th>\n",
       "      <td>7</td>\n",
       "    </tr>\n",
       "  </tbody>\n",
       "</table>\n",
       "</div>"
      ],
      "text/plain": [
       "       Survived\n",
       "SibSp          \n",
       "0           608\n",
       "1           209\n",
       "2            28\n",
       "3            16\n",
       "4            18\n",
       "5             5\n",
       "8             7"
      ]
     },
     "execution_count": 21,
     "metadata": {},
     "output_type": "execute_result"
    }
   ],
   "source": [
    "titanic[['SibSp','Survived']].groupby(['SibSp']).count()"
   ]
  },
  {
   "cell_type": "code",
   "execution_count": 22,
   "metadata": {},
   "outputs": [
    {
     "data": {
      "text/plain": [
       "Survived  SibSp\n",
       "0         0        398\n",
       "          1         97\n",
       "          2         15\n",
       "          3         12\n",
       "          4         15\n",
       "          5          5\n",
       "          8          7\n",
       "1         0        210\n",
       "          1        112\n",
       "          2         13\n",
       "          3          4\n",
       "          4          3\n",
       "Name: Survived, dtype: int64"
      ]
     },
     "execution_count": 22,
     "metadata": {},
     "output_type": "execute_result"
    }
   ],
   "source": [
    "titanic.groupby(['Survived','SibSp'])['Survived'].count()"
   ]
  },
  {
   "cell_type": "code",
   "execution_count": 23,
   "metadata": {},
   "outputs": [
    {
     "data": {
      "text/html": [
       "<div>\n",
       "<style scoped>\n",
       "    .dataframe tbody tr th:only-of-type {\n",
       "        vertical-align: middle;\n",
       "    }\n",
       "\n",
       "    .dataframe tbody tr th {\n",
       "        vertical-align: top;\n",
       "    }\n",
       "\n",
       "    .dataframe thead th {\n",
       "        text-align: right;\n",
       "    }\n",
       "</style>\n",
       "<table border=\"1\" class=\"dataframe\">\n",
       "  <thead>\n",
       "    <tr style=\"text-align: right;\">\n",
       "      <th></th>\n",
       "      <th>Survived</th>\n",
       "    </tr>\n",
       "    <tr>\n",
       "      <th>SibSp</th>\n",
       "      <th></th>\n",
       "    </tr>\n",
       "  </thead>\n",
       "  <tbody>\n",
       "    <tr>\n",
       "      <th>0</th>\n",
       "      <td>0.345395</td>\n",
       "    </tr>\n",
       "    <tr>\n",
       "      <th>1</th>\n",
       "      <td>0.535885</td>\n",
       "    </tr>\n",
       "    <tr>\n",
       "      <th>2</th>\n",
       "      <td>0.464286</td>\n",
       "    </tr>\n",
       "    <tr>\n",
       "      <th>3</th>\n",
       "      <td>0.250000</td>\n",
       "    </tr>\n",
       "    <tr>\n",
       "      <th>4</th>\n",
       "      <td>0.166667</td>\n",
       "    </tr>\n",
       "    <tr>\n",
       "      <th>5</th>\n",
       "      <td>0.000000</td>\n",
       "    </tr>\n",
       "    <tr>\n",
       "      <th>8</th>\n",
       "      <td>0.000000</td>\n",
       "    </tr>\n",
       "  </tbody>\n",
       "</table>\n",
       "</div>"
      ],
      "text/plain": [
       "       Survived\n",
       "SibSp          \n",
       "0      0.345395\n",
       "1      0.535885\n",
       "2      0.464286\n",
       "3      0.250000\n",
       "4      0.166667\n",
       "5      0.000000\n",
       "8      0.000000"
      ]
     },
     "execution_count": 23,
     "metadata": {},
     "output_type": "execute_result"
    }
   ],
   "source": [
    "titanic[['SibSp','Survived']].groupby(['SibSp']).mean()"
   ]
  },
  {
   "cell_type": "code",
   "execution_count": 24,
   "metadata": {},
   "outputs": [
    {
     "data": {
      "image/png": "[encoded data removed]",
      "text/plain": [
       "<Figure size 1000x500 with 2 Axes>"
      ]
     },
     "metadata": {},
     "output_type": "display_data"
    }
   ],
   "source": [
    "sns.catplot(x='SibSp',col='Survived', kind='count', data=titanic)\n",
    "plt.show()"
   ]
  },
  {
   "cell_type": "code",
   "execution_count": 25,
   "metadata": {},
   "outputs": [
    {
     "data": {
      "image/png": "[encoded data removed]",
      "text/plain": [
       "<Figure size 1000x500 with 1 Axes>"
      ]
     },
     "metadata": {},
     "output_type": "display_data"
    }
   ],
   "source": [
    "fig, ax = plt.subplots(1,1, figsize=(10,5))\n",
    "sns.kdeplot(x=titanic[titanic['Survived'] == 0]['SibSp'], ax=ax)\n",
    "sns.kdeplot(x=titanic[titanic.Survived == 1]['SibSp'], ax=ax)\n",
    "\n",
    "plt.legend(['Survived','Dead'])\n",
    "\n",
    "plt.show()"
   ]
  },
  {
   "attachments": {},
   "cell_type": "markdown",
   "metadata": {},
   "source": [
    "- SibSp값을 봤을 때 생존자는 SibSP값이 0일때 가장 많지만 비율로 봤을 때는 Sib 값이 1~2일때 가장 확률이 높았다.\n",
    "- SibSp값이 5이상이면 살아남은 사람이 아예 없는 것을 볼 수 있었다."
   ]
  },
  {
   "cell_type": "markdown",
   "metadata": {},
   "source": [
    "\n",
    "### 2. [Kaggle](https://www.kaggle.com/datasets)에서 Dataset을 찾고, 이 Dataset에서 유의미한 Feature를 3개 이상 찾고 이를 시각화해봅시다.\n",
    "\n",
    "함께 보면 좋은 라이브러리 document\n",
    "- [numpy]()\n",
    "- [pandas]()\n",
    "- [seaborn]()\n",
    "- [matplotlib]()"
   ]
  },
  {
   "attachments": {},
   "cell_type": "markdown",
   "metadata": {},
   "source": [
    "### Fastfood 영양 데이터를 알아보기\n",
    "\n",
    "- https://www.kaggle.com/datasets/ulrikthygepedersen/fastfood-nutrition"
   ]
  },
  {
   "cell_type": "code",
   "execution_count": 26,
   "metadata": {},
   "outputs": [
    {
     "data": {
      "text/html": [
       "<div>\n",
       "<style scoped>\n",
       "    .dataframe tbody tr th:only-of-type {\n",
       "        vertical-align: middle;\n",
       "    }\n",
       "\n",
       "    .dataframe tbody tr th {\n",
       "        vertical-align: top;\n",
       "    }\n",
       "\n",
       "    .dataframe thead th {\n",
       "        text-align: right;\n",
       "    }\n",
       "</style>\n",
       "<table border=\"1\" class=\"dataframe\">\n",
       "  <thead>\n",
       "    <tr style=\"text-align: right;\">\n",
       "      <th></th>\n",
       "      <th>restaurant</th>\n",
       "      <th>item</th>\n",
       "      <th>calories</th>\n",
       "      <th>cal_fat</th>\n",
       "      <th>total_fat</th>\n",
       "      <th>sat_fat</th>\n",
       "      <th>trans_fat</th>\n",
       "      <th>cholesterol</th>\n",
       "      <th>sodium</th>\n",
       "      <th>total_carb</th>\n",
       "      <th>fiber</th>\n",
       "      <th>sugar</th>\n",
       "      <th>protein</th>\n",
       "      <th>vit_a</th>\n",
       "      <th>vit_c</th>\n",
       "      <th>calcium</th>\n",
       "      <th>salad</th>\n",
       "    </tr>\n",
       "  </thead>\n",
       "  <tbody>\n",
       "    <tr>\n",
       "      <th>0</th>\n",
       "      <td>Mcdonalds</td>\n",
       "      <td>Artisan Grilled Chicken Sandwich</td>\n",
       "      <td>380</td>\n",
       "      <td>60</td>\n",
       "      <td>7</td>\n",
       "      <td>2.0</td>\n",
       "      <td>0.0</td>\n",
       "      <td>95</td>\n",
       "      <td>1110</td>\n",
       "      <td>44</td>\n",
       "      <td>3.0</td>\n",
       "      <td>11</td>\n",
       "      <td>37.0</td>\n",
       "      <td>4.0</td>\n",
       "      <td>20.0</td>\n",
       "      <td>20.0</td>\n",
       "      <td>Other</td>\n",
       "    </tr>\n",
       "    <tr>\n",
       "      <th>1</th>\n",
       "      <td>Mcdonalds</td>\n",
       "      <td>Single Bacon Smokehouse Burger</td>\n",
       "      <td>840</td>\n",
       "      <td>410</td>\n",
       "      <td>45</td>\n",
       "      <td>17.0</td>\n",
       "      <td>1.5</td>\n",
       "      <td>130</td>\n",
       "      <td>1580</td>\n",
       "      <td>62</td>\n",
       "      <td>2.0</td>\n",
       "      <td>18</td>\n",
       "      <td>46.0</td>\n",
       "      <td>6.0</td>\n",
       "      <td>20.0</td>\n",
       "      <td>20.0</td>\n",
       "      <td>Other</td>\n",
       "    </tr>\n",
       "    <tr>\n",
       "      <th>2</th>\n",
       "      <td>Mcdonalds</td>\n",
       "      <td>Double Bacon Smokehouse Burger</td>\n",
       "      <td>1130</td>\n",
       "      <td>600</td>\n",
       "      <td>67</td>\n",
       "      <td>27.0</td>\n",
       "      <td>3.0</td>\n",
       "      <td>220</td>\n",
       "      <td>1920</td>\n",
       "      <td>63</td>\n",
       "      <td>3.0</td>\n",
       "      <td>18</td>\n",
       "      <td>70.0</td>\n",
       "      <td>10.0</td>\n",
       "      <td>20.0</td>\n",
       "      <td>50.0</td>\n",
       "      <td>Other</td>\n",
       "    </tr>\n",
       "    <tr>\n",
       "      <th>3</th>\n",
       "      <td>Mcdonalds</td>\n",
       "      <td>Grilled Bacon Smokehouse Chicken Sandwich</td>\n",
       "      <td>750</td>\n",
       "      <td>280</td>\n",
       "      <td>31</td>\n",
       "      <td>10.0</td>\n",
       "      <td>0.5</td>\n",
       "      <td>155</td>\n",
       "      <td>1940</td>\n",
       "      <td>62</td>\n",
       "      <td>2.0</td>\n",
       "      <td>18</td>\n",
       "      <td>55.0</td>\n",
       "      <td>6.0</td>\n",
       "      <td>25.0</td>\n",
       "      <td>20.0</td>\n",
       "      <td>Other</td>\n",
       "    </tr>\n",
       "    <tr>\n",
       "      <th>4</th>\n",
       "      <td>Mcdonalds</td>\n",
       "      <td>Crispy Bacon Smokehouse Chicken Sandwich</td>\n",
       "      <td>920</td>\n",
       "      <td>410</td>\n",
       "      <td>45</td>\n",
       "      <td>12.0</td>\n",
       "      <td>0.5</td>\n",
       "      <td>120</td>\n",
       "      <td>1980</td>\n",
       "      <td>81</td>\n",
       "      <td>4.0</td>\n",
       "      <td>18</td>\n",
       "      <td>46.0</td>\n",
       "      <td>6.0</td>\n",
       "      <td>20.0</td>\n",
       "      <td>20.0</td>\n",
       "      <td>Other</td>\n",
       "    </tr>\n",
       "  </tbody>\n",
       "</table>\n",
       "</div>"
      ],
      "text/plain": [
       "  restaurant                                       item  calories  cal_fat  \\\n",
       "0  Mcdonalds           Artisan Grilled Chicken Sandwich       380       60   \n",
       "1  Mcdonalds             Single Bacon Smokehouse Burger       840      410   \n",
       "2  Mcdonalds             Double Bacon Smokehouse Burger      1130      600   \n",
       "3  Mcdonalds  Grilled Bacon Smokehouse Chicken Sandwich       750      280   \n",
       "4  Mcdonalds   Crispy Bacon Smokehouse Chicken Sandwich       920      410   \n",
       "\n",
       "   total_fat  sat_fat  trans_fat  cholesterol  sodium  total_carb  fiber  \\\n",
       "0          7      2.0        0.0           95    1110          44    3.0   \n",
       "1         45     17.0        1.5          130    1580          62    2.0   \n",
       "2         67     27.0        3.0          220    1920          63    3.0   \n",
       "3         31     10.0        0.5          155    1940          62    2.0   \n",
       "4         45     12.0        0.5          120    1980          81    4.0   \n",
       "\n",
       "   sugar  protein  vit_a  vit_c  calcium  salad  \n",
       "0     11     37.0    4.0   20.0     20.0  Other  \n",
       "1     18     46.0    6.0   20.0     20.0  Other  \n",
       "2     18     70.0   10.0   20.0     50.0  Other  \n",
       "3     18     55.0    6.0   25.0     20.0  Other  \n",
       "4     18     46.0    6.0   20.0     20.0  Other  "
      ]
     },
     "execution_count": 26,
     "metadata": {},
     "output_type": "execute_result"
    }
   ],
   "source": [
    "fastfood = pd.read_csv('../data/fastfood/fastfood.csv')\n",
    "\n",
    "fastfood.head(5)"
   ]
  },
  {
   "attachments": {},
   "cell_type": "markdown",
   "metadata": {},
   "source": [
    "- Fastfood 가게 종류, 메뉴, 칼로리, 지방칼로리, 총지방량, 포화지방, 트렌스지방, 콜레스테롤, 염분, 총 탄수화물량, 섬유질, 당분, 단백질, 비타민A, 비타민C 칼슘 으로 이루어져있다.\n",
    "- salad는 필요없는 수치\n",
    "\n",
    "## Tasks\n",
    "- 가게와 영양성분의 상관관계를 알아보기\n",
    "1. 가게별로 메뉴가 몇 개 있는지 알아보기\n",
    "2. 칼로리를 덜 섭취하고 싶을 때 어디서 먹는게 제일 좋은지\n",
    "3. 단백질을 잘 섭취하고 싶을 때 어디서 먹는게 제일 좋은지\n",
    "4. 탄수화물을 섭취해야하는데 단당류 비율이 적은 복합탄수화물이 먹고싶을 때"
   ]
  },
  {
   "cell_type": "code",
   "execution_count": 27,
   "metadata": {},
   "outputs": [
    {
     "data": {
      "text/plain": [
       "restaurant       0\n",
       "item             0\n",
       "calories         0\n",
       "cal_fat          0\n",
       "total_fat        0\n",
       "sat_fat          0\n",
       "trans_fat        0\n",
       "cholesterol      0\n",
       "sodium           0\n",
       "total_carb       0\n",
       "fiber           12\n",
       "sugar            0\n",
       "protein          1\n",
       "vit_a          214\n",
       "vit_c          210\n",
       "calcium        210\n",
       "salad            0\n",
       "dtype: int64"
      ]
     },
     "execution_count": 27,
     "metadata": {},
     "output_type": "execute_result"
    }
   ],
   "source": [
    "#결측치 알아보기\n",
    "\n",
    "fastfood.isnull().sum()"
   ]
  },
  {
   "attachments": {},
   "cell_type": "markdown",
   "metadata": {},
   "source": [
    "- 비타민, 칼슘량, 섬유질양에 대해서 결측치가 있음\n",
    "- 단백질 결측치는 단 1개이지만 중요한 수치니깐 고려해보자"
   ]
  },
  {
   "cell_type": "code",
   "execution_count": 28,
   "metadata": {},
   "outputs": [
    {
     "data": {
      "text/html": [
       "<div>\n",
       "<style scoped>\n",
       "    .dataframe tbody tr th:only-of-type {\n",
       "        vertical-align: middle;\n",
       "    }\n",
       "\n",
       "    .dataframe tbody tr th {\n",
       "        vertical-align: top;\n",
       "    }\n",
       "\n",
       "    .dataframe thead th {\n",
       "        text-align: right;\n",
       "    }\n",
       "</style>\n",
       "<table border=\"1\" class=\"dataframe\">\n",
       "  <thead>\n",
       "    <tr style=\"text-align: right;\">\n",
       "      <th></th>\n",
       "      <th>calories</th>\n",
       "      <th>cal_fat</th>\n",
       "      <th>total_fat</th>\n",
       "      <th>sat_fat</th>\n",
       "      <th>trans_fat</th>\n",
       "      <th>cholesterol</th>\n",
       "      <th>sodium</th>\n",
       "      <th>total_carb</th>\n",
       "      <th>fiber</th>\n",
       "      <th>sugar</th>\n",
       "      <th>protein</th>\n",
       "      <th>vit_a</th>\n",
       "      <th>vit_c</th>\n",
       "      <th>calcium</th>\n",
       "    </tr>\n",
       "  </thead>\n",
       "  <tbody>\n",
       "    <tr>\n",
       "      <th>calories</th>\n",
       "      <td>1.000000</td>\n",
       "      <td>0.901661</td>\n",
       "      <td>0.900494</td>\n",
       "      <td>0.739664</td>\n",
       "      <td>0.530354</td>\n",
       "      <td>0.762460</td>\n",
       "      <td>0.817855</td>\n",
       "      <td>0.712701</td>\n",
       "      <td>0.287031</td>\n",
       "      <td>0.437711</td>\n",
       "      <td>0.831957</td>\n",
       "      <td>-0.153963</td>\n",
       "      <td>0.007387</td>\n",
       "      <td>0.351207</td>\n",
       "    </tr>\n",
       "    <tr>\n",
       "      <th>cal_fat</th>\n",
       "      <td>0.901661</td>\n",
       "      <td>1.000000</td>\n",
       "      <td>0.995311</td>\n",
       "      <td>0.852150</td>\n",
       "      <td>0.648422</td>\n",
       "      <td>0.803997</td>\n",
       "      <td>0.670458</td>\n",
       "      <td>0.419373</td>\n",
       "      <td>0.032643</td>\n",
       "      <td>0.255485</td>\n",
       "      <td>0.720379</td>\n",
       "      <td>-0.121748</td>\n",
       "      <td>-0.115456</td>\n",
       "      <td>0.166801</td>\n",
       "    </tr>\n",
       "    <tr>\n",
       "      <th>total_fat</th>\n",
       "      <td>0.900494</td>\n",
       "      <td>0.995311</td>\n",
       "      <td>1.000000</td>\n",
       "      <td>0.846716</td>\n",
       "      <td>0.648821</td>\n",
       "      <td>0.801352</td>\n",
       "      <td>0.669182</td>\n",
       "      <td>0.422543</td>\n",
       "      <td>0.036386</td>\n",
       "      <td>0.259370</td>\n",
       "      <td>0.719518</td>\n",
       "      <td>-0.122280</td>\n",
       "      <td>-0.112868</td>\n",
       "      <td>0.168817</td>\n",
       "    </tr>\n",
       "    <tr>\n",
       "      <th>sat_fat</th>\n",
       "      <td>0.739664</td>\n",
       "      <td>0.852150</td>\n",
       "      <td>0.846716</td>\n",
       "      <td>1.000000</td>\n",
       "      <td>0.812126</td>\n",
       "      <td>0.764030</td>\n",
       "      <td>0.487456</td>\n",
       "      <td>0.276534</td>\n",
       "      <td>-0.041220</td>\n",
       "      <td>0.234218</td>\n",
       "      <td>0.603645</td>\n",
       "      <td>-0.054292</td>\n",
       "      <td>-0.088834</td>\n",
       "      <td>0.304948</td>\n",
       "    </tr>\n",
       "    <tr>\n",
       "      <th>trans_fat</th>\n",
       "      <td>0.530354</td>\n",
       "      <td>0.648422</td>\n",
       "      <td>0.648821</td>\n",
       "      <td>0.812126</td>\n",
       "      <td>1.000000</td>\n",
       "      <td>0.680858</td>\n",
       "      <td>0.261466</td>\n",
       "      <td>0.100284</td>\n",
       "      <td>-0.121890</td>\n",
       "      <td>0.112651</td>\n",
       "      <td>0.478960</td>\n",
       "      <td>-0.086352</td>\n",
       "      <td>-0.141754</td>\n",
       "      <td>0.114094</td>\n",
       "    </tr>\n",
       "    <tr>\n",
       "      <th>cholesterol</th>\n",
       "      <td>0.762460</td>\n",
       "      <td>0.803997</td>\n",
       "      <td>0.801352</td>\n",
       "      <td>0.764030</td>\n",
       "      <td>0.680858</td>\n",
       "      <td>1.000000</td>\n",
       "      <td>0.596164</td>\n",
       "      <td>0.238728</td>\n",
       "      <td>-0.061503</td>\n",
       "      <td>0.298259</td>\n",
       "      <td>0.880960</td>\n",
       "      <td>-0.057142</td>\n",
       "      <td>-0.015610</td>\n",
       "      <td>0.162438</td>\n",
       "    </tr>\n",
       "    <tr>\n",
       "      <th>sodium</th>\n",
       "      <td>0.817855</td>\n",
       "      <td>0.670458</td>\n",
       "      <td>0.669182</td>\n",
       "      <td>0.487456</td>\n",
       "      <td>0.261466</td>\n",
       "      <td>0.596164</td>\n",
       "      <td>1.000000</td>\n",
       "      <td>0.671976</td>\n",
       "      <td>0.301023</td>\n",
       "      <td>0.422993</td>\n",
       "      <td>0.766942</td>\n",
       "      <td>-0.134031</td>\n",
       "      <td>0.062994</td>\n",
       "      <td>0.284882</td>\n",
       "    </tr>\n",
       "    <tr>\n",
       "      <th>total_carb</th>\n",
       "      <td>0.712701</td>\n",
       "      <td>0.419373</td>\n",
       "      <td>0.422543</td>\n",
       "      <td>0.276534</td>\n",
       "      <td>0.100284</td>\n",
       "      <td>0.238728</td>\n",
       "      <td>0.671976</td>\n",
       "      <td>1.000000</td>\n",
       "      <td>0.648839</td>\n",
       "      <td>0.547026</td>\n",
       "      <td>0.474396</td>\n",
       "      <td>-0.187004</td>\n",
       "      <td>0.128177</td>\n",
       "      <td>0.514463</td>\n",
       "    </tr>\n",
       "    <tr>\n",
       "      <th>fiber</th>\n",
       "      <td>0.287031</td>\n",
       "      <td>0.032643</td>\n",
       "      <td>0.036386</td>\n",
       "      <td>-0.041220</td>\n",
       "      <td>-0.121890</td>\n",
       "      <td>-0.061503</td>\n",
       "      <td>0.301023</td>\n",
       "      <td>0.648839</td>\n",
       "      <td>1.000000</td>\n",
       "      <td>0.236475</td>\n",
       "      <td>0.148053</td>\n",
       "      <td>0.157631</td>\n",
       "      <td>0.491224</td>\n",
       "      <td>0.546734</td>\n",
       "    </tr>\n",
       "    <tr>\n",
       "      <th>sugar</th>\n",
       "      <td>0.437711</td>\n",
       "      <td>0.255485</td>\n",
       "      <td>0.259370</td>\n",
       "      <td>0.234218</td>\n",
       "      <td>0.112651</td>\n",
       "      <td>0.298259</td>\n",
       "      <td>0.422993</td>\n",
       "      <td>0.547026</td>\n",
       "      <td>0.236475</td>\n",
       "      <td>1.000000</td>\n",
       "      <td>0.389959</td>\n",
       "      <td>0.001626</td>\n",
       "      <td>0.229223</td>\n",
       "      <td>0.310559</td>\n",
       "    </tr>\n",
       "    <tr>\n",
       "      <th>protein</th>\n",
       "      <td>0.831957</td>\n",
       "      <td>0.720379</td>\n",
       "      <td>0.719518</td>\n",
       "      <td>0.603645</td>\n",
       "      <td>0.478960</td>\n",
       "      <td>0.880960</td>\n",
       "      <td>0.766942</td>\n",
       "      <td>0.474396</td>\n",
       "      <td>0.148053</td>\n",
       "      <td>0.389959</td>\n",
       "      <td>1.000000</td>\n",
       "      <td>-0.049423</td>\n",
       "      <td>0.100523</td>\n",
       "      <td>0.284497</td>\n",
       "    </tr>\n",
       "    <tr>\n",
       "      <th>vit_a</th>\n",
       "      <td>-0.153963</td>\n",
       "      <td>-0.121748</td>\n",
       "      <td>-0.122280</td>\n",
       "      <td>-0.054292</td>\n",
       "      <td>-0.086352</td>\n",
       "      <td>-0.057142</td>\n",
       "      <td>-0.134031</td>\n",
       "      <td>-0.187004</td>\n",
       "      <td>0.157631</td>\n",
       "      <td>0.001626</td>\n",
       "      <td>-0.049423</td>\n",
       "      <td>1.000000</td>\n",
       "      <td>0.332259</td>\n",
       "      <td>0.019624</td>\n",
       "    </tr>\n",
       "    <tr>\n",
       "      <th>vit_c</th>\n",
       "      <td>0.007387</td>\n",
       "      <td>-0.115456</td>\n",
       "      <td>-0.112868</td>\n",
       "      <td>-0.088834</td>\n",
       "      <td>-0.141754</td>\n",
       "      <td>-0.015610</td>\n",
       "      <td>0.062994</td>\n",
       "      <td>0.128177</td>\n",
       "      <td>0.491224</td>\n",
       "      <td>0.229223</td>\n",
       "      <td>0.100523</td>\n",
       "      <td>0.332259</td>\n",
       "      <td>1.000000</td>\n",
       "      <td>0.236129</td>\n",
       "    </tr>\n",
       "    <tr>\n",
       "      <th>calcium</th>\n",
       "      <td>0.351207</td>\n",
       "      <td>0.166801</td>\n",
       "      <td>0.168817</td>\n",
       "      <td>0.304948</td>\n",
       "      <td>0.114094</td>\n",
       "      <td>0.162438</td>\n",
       "      <td>0.284882</td>\n",
       "      <td>0.514463</td>\n",
       "      <td>0.546734</td>\n",
       "      <td>0.310559</td>\n",
       "      <td>0.284497</td>\n",
       "      <td>0.019624</td>\n",
       "      <td>0.236129</td>\n",
       "      <td>1.000000</td>\n",
       "    </tr>\n",
       "  </tbody>\n",
       "</table>\n",
       "</div>"
      ],
      "text/plain": [
       "             calories   cal_fat  total_fat   sat_fat  trans_fat  cholesterol  \\\n",
       "calories     1.000000  0.901661   0.900494  0.739664   0.530354     0.762460   \n",
       "cal_fat      0.901661  1.000000   0.995311  0.852150   0.648422     0.803997   \n",
       "total_fat    0.900494  0.995311   1.000000  0.846716   0.648821     0.801352   \n",
       "sat_fat      0.739664  0.852150   0.846716  1.000000   0.812126     0.764030   \n",
       "trans_fat    0.530354  0.648422   0.648821  0.812126   1.000000     0.680858   \n",
       "cholesterol  0.762460  0.803997   0.801352  0.764030   0.680858     1.000000   \n",
       "sodium       0.817855  0.670458   0.669182  0.487456   0.261466     0.596164   \n",
       "total_carb   0.712701  0.419373   0.422543  0.276534   0.100284     0.238728   \n",
       "fiber        0.287031  0.032643   0.036386 -0.041220  -0.121890    -0.061503   \n",
       "sugar        0.437711  0.255485   0.259370  0.234218   0.112651     0.298259   \n",
       "protein      0.831957  0.720379   0.719518  0.603645   0.478960     0.880960   \n",
       "vit_a       -0.153963 -0.121748  -0.122280 -0.054292  -0.086352    -0.057142   \n",
       "vit_c        0.007387 -0.115456  -0.112868 -0.088834  -0.141754    -0.015610   \n",
       "calcium      0.351207  0.166801   0.168817  0.304948   0.114094     0.162438   \n",
       "\n",
       "               sodium  total_carb     fiber     sugar   protein     vit_a  \\\n",
       "calories     0.817855    0.712701  0.287031  0.437711  0.831957 -0.153963   \n",
       "cal_fat      0.670458    0.419373  0.032643  0.255485  0.720379 -0.121748   \n",
       "total_fat    0.669182    0.422543  0.036386  0.259370  0.719518 -0.122280   \n",
       "sat_fat      0.487456    0.276534 -0.041220  0.234218  0.603645 -0.054292   \n",
       "trans_fat    0.261466    0.100284 -0.121890  0.112651  0.478960 -0.086352   \n",
       "cholesterol  0.596164    0.238728 -0.061503  0.298259  0.880960 -0.057142   \n",
       "sodium       1.000000    0.671976  0.301023  0.422993  0.766942 -0.134031   \n",
       "total_carb   0.671976    1.000000  0.648839  0.547026  0.474396 -0.187004   \n",
       "fiber        0.301023    0.648839  1.000000  0.236475  0.148053  0.157631   \n",
       "sugar        0.422993    0.547026  0.236475  1.000000  0.389959  0.001626   \n",
       "protein      0.766942    0.474396  0.148053  0.389959  1.000000 -0.049423   \n",
       "vit_a       -0.134031   -0.187004  0.157631  0.001626 -0.049423  1.000000   \n",
       "vit_c        0.062994    0.128177  0.491224  0.229223  0.100523  0.332259   \n",
       "calcium      0.284882    0.514463  0.546734  0.310559  0.284497  0.019624   \n",
       "\n",
       "                vit_c   calcium  \n",
       "calories     0.007387  0.351207  \n",
       "cal_fat     -0.115456  0.166801  \n",
       "total_fat   -0.112868  0.168817  \n",
       "sat_fat     -0.088834  0.304948  \n",
       "trans_fat   -0.141754  0.114094  \n",
       "cholesterol -0.015610  0.162438  \n",
       "sodium       0.062994  0.284882  \n",
       "total_carb   0.128177  0.514463  \n",
       "fiber        0.491224  0.546734  \n",
       "sugar        0.229223  0.310559  \n",
       "protein      0.100523  0.284497  \n",
       "vit_a        0.332259  0.019624  \n",
       "vit_c        1.000000  0.236129  \n",
       "calcium      0.236129  1.000000  "
      ]
     },
     "execution_count": 28,
     "metadata": {},
     "output_type": "execute_result"
    }
   ],
   "source": [
    "fastfood.corr()"
   ]
  },
  {
   "attachments": {},
   "cell_type": "markdown",
   "metadata": {},
   "source": [
    "- 상관관계를 봤을 때 지방과 칼로리의 관계가 눈에 띈다.\n",
    "- 염분과 단백질 또한 칼로리와 연관성이 있어보인다."
   ]
  },
  {
   "cell_type": "code",
   "execution_count": 29,
   "metadata": {},
   "outputs": [
    {
     "data": {
      "text/html": [
       "<div>\n",
       "<style scoped>\n",
       "    .dataframe tbody tr th:only-of-type {\n",
       "        vertical-align: middle;\n",
       "    }\n",
       "\n",
       "    .dataframe tbody tr th {\n",
       "        vertical-align: top;\n",
       "    }\n",
       "\n",
       "    .dataframe thead th {\n",
       "        text-align: right;\n",
       "    }\n",
       "</style>\n",
       "<table border=\"1\" class=\"dataframe\">\n",
       "  <thead>\n",
       "    <tr style=\"text-align: right;\">\n",
       "      <th></th>\n",
       "      <th>calories</th>\n",
       "      <th>cal_fat</th>\n",
       "      <th>total_fat</th>\n",
       "      <th>sat_fat</th>\n",
       "      <th>trans_fat</th>\n",
       "      <th>cholesterol</th>\n",
       "      <th>sodium</th>\n",
       "      <th>total_carb</th>\n",
       "      <th>fiber</th>\n",
       "      <th>sugar</th>\n",
       "      <th>protein</th>\n",
       "      <th>vit_a</th>\n",
       "      <th>vit_c</th>\n",
       "      <th>calcium</th>\n",
       "    </tr>\n",
       "  </thead>\n",
       "  <tbody>\n",
       "    <tr>\n",
       "      <th>count</th>\n",
       "      <td>515.000000</td>\n",
       "      <td>515.000000</td>\n",
       "      <td>515.000000</td>\n",
       "      <td>515.000000</td>\n",
       "      <td>515.000000</td>\n",
       "      <td>515.000000</td>\n",
       "      <td>515.000000</td>\n",
       "      <td>515.000000</td>\n",
       "      <td>503.000000</td>\n",
       "      <td>515.000000</td>\n",
       "      <td>514.000000</td>\n",
       "      <td>301.000000</td>\n",
       "      <td>305.000000</td>\n",
       "      <td>305.000000</td>\n",
       "    </tr>\n",
       "    <tr>\n",
       "      <th>mean</th>\n",
       "      <td>530.912621</td>\n",
       "      <td>238.813592</td>\n",
       "      <td>26.590291</td>\n",
       "      <td>8.153398</td>\n",
       "      <td>0.465049</td>\n",
       "      <td>72.456311</td>\n",
       "      <td>1246.737864</td>\n",
       "      <td>45.664078</td>\n",
       "      <td>4.137177</td>\n",
       "      <td>7.262136</td>\n",
       "      <td>27.891051</td>\n",
       "      <td>18.857143</td>\n",
       "      <td>20.170492</td>\n",
       "      <td>24.852459</td>\n",
       "    </tr>\n",
       "    <tr>\n",
       "      <th>std</th>\n",
       "      <td>282.436147</td>\n",
       "      <td>166.407510</td>\n",
       "      <td>18.411876</td>\n",
       "      <td>6.418811</td>\n",
       "      <td>0.839644</td>\n",
       "      <td>63.160406</td>\n",
       "      <td>689.954278</td>\n",
       "      <td>24.883342</td>\n",
       "      <td>3.037460</td>\n",
       "      <td>6.761301</td>\n",
       "      <td>17.683921</td>\n",
       "      <td>31.384330</td>\n",
       "      <td>30.592243</td>\n",
       "      <td>25.522073</td>\n",
       "    </tr>\n",
       "    <tr>\n",
       "      <th>min</th>\n",
       "      <td>20.000000</td>\n",
       "      <td>0.000000</td>\n",
       "      <td>0.000000</td>\n",
       "      <td>0.000000</td>\n",
       "      <td>0.000000</td>\n",
       "      <td>0.000000</td>\n",
       "      <td>15.000000</td>\n",
       "      <td>0.000000</td>\n",
       "      <td>0.000000</td>\n",
       "      <td>0.000000</td>\n",
       "      <td>1.000000</td>\n",
       "      <td>0.000000</td>\n",
       "      <td>0.000000</td>\n",
       "      <td>0.000000</td>\n",
       "    </tr>\n",
       "    <tr>\n",
       "      <th>25%</th>\n",
       "      <td>330.000000</td>\n",
       "      <td>120.000000</td>\n",
       "      <td>14.000000</td>\n",
       "      <td>4.000000</td>\n",
       "      <td>0.000000</td>\n",
       "      <td>35.000000</td>\n",
       "      <td>800.000000</td>\n",
       "      <td>28.500000</td>\n",
       "      <td>2.000000</td>\n",
       "      <td>3.000000</td>\n",
       "      <td>16.000000</td>\n",
       "      <td>4.000000</td>\n",
       "      <td>4.000000</td>\n",
       "      <td>8.000000</td>\n",
       "    </tr>\n",
       "    <tr>\n",
       "      <th>50%</th>\n",
       "      <td>490.000000</td>\n",
       "      <td>210.000000</td>\n",
       "      <td>23.000000</td>\n",
       "      <td>7.000000</td>\n",
       "      <td>0.000000</td>\n",
       "      <td>60.000000</td>\n",
       "      <td>1110.000000</td>\n",
       "      <td>44.000000</td>\n",
       "      <td>3.000000</td>\n",
       "      <td>6.000000</td>\n",
       "      <td>24.500000</td>\n",
       "      <td>10.000000</td>\n",
       "      <td>10.000000</td>\n",
       "      <td>20.000000</td>\n",
       "    </tr>\n",
       "    <tr>\n",
       "      <th>75%</th>\n",
       "      <td>690.000000</td>\n",
       "      <td>310.000000</td>\n",
       "      <td>35.000000</td>\n",
       "      <td>11.000000</td>\n",
       "      <td>1.000000</td>\n",
       "      <td>95.000000</td>\n",
       "      <td>1550.000000</td>\n",
       "      <td>57.000000</td>\n",
       "      <td>5.000000</td>\n",
       "      <td>9.000000</td>\n",
       "      <td>36.000000</td>\n",
       "      <td>20.000000</td>\n",
       "      <td>30.000000</td>\n",
       "      <td>30.000000</td>\n",
       "    </tr>\n",
       "    <tr>\n",
       "      <th>max</th>\n",
       "      <td>2430.000000</td>\n",
       "      <td>1270.000000</td>\n",
       "      <td>141.000000</td>\n",
       "      <td>47.000000</td>\n",
       "      <td>8.000000</td>\n",
       "      <td>805.000000</td>\n",
       "      <td>6080.000000</td>\n",
       "      <td>156.000000</td>\n",
       "      <td>17.000000</td>\n",
       "      <td>87.000000</td>\n",
       "      <td>186.000000</td>\n",
       "      <td>180.000000</td>\n",
       "      <td>400.000000</td>\n",
       "      <td>290.000000</td>\n",
       "    </tr>\n",
       "  </tbody>\n",
       "</table>\n",
       "</div>"
      ],
      "text/plain": [
       "          calories      cal_fat   total_fat     sat_fat   trans_fat  \\\n",
       "count   515.000000   515.000000  515.000000  515.000000  515.000000   \n",
       "mean    530.912621   238.813592   26.590291    8.153398    0.465049   \n",
       "std     282.436147   166.407510   18.411876    6.418811    0.839644   \n",
       "min      20.000000     0.000000    0.000000    0.000000    0.000000   \n",
       "25%     330.000000   120.000000   14.000000    4.000000    0.000000   \n",
       "50%     490.000000   210.000000   23.000000    7.000000    0.000000   \n",
       "75%     690.000000   310.000000   35.000000   11.000000    1.000000   \n",
       "max    2430.000000  1270.000000  141.000000   47.000000    8.000000   \n",
       "\n",
       "       cholesterol       sodium  total_carb       fiber       sugar  \\\n",
       "count   515.000000   515.000000  515.000000  503.000000  515.000000   \n",
       "mean     72.456311  1246.737864   45.664078    4.137177    7.262136   \n",
       "std      63.160406   689.954278   24.883342    3.037460    6.761301   \n",
       "min       0.000000    15.000000    0.000000    0.000000    0.000000   \n",
       "25%      35.000000   800.000000   28.500000    2.000000    3.000000   \n",
       "50%      60.000000  1110.000000   44.000000    3.000000    6.000000   \n",
       "75%      95.000000  1550.000000   57.000000    5.000000    9.000000   \n",
       "max     805.000000  6080.000000  156.000000   17.000000   87.000000   \n",
       "\n",
       "          protein       vit_a       vit_c     calcium  \n",
       "count  514.000000  301.000000  305.000000  305.000000  \n",
       "mean    27.891051   18.857143   20.170492   24.852459  \n",
       "std     17.683921   31.384330   30.592243   25.522073  \n",
       "min      1.000000    0.000000    0.000000    0.000000  \n",
       "25%     16.000000    4.000000    4.000000    8.000000  \n",
       "50%     24.500000   10.000000   10.000000   20.000000  \n",
       "75%     36.000000   20.000000   30.000000   30.000000  \n",
       "max    186.000000  180.000000  400.000000  290.000000  "
      ]
     },
     "execution_count": 29,
     "metadata": {},
     "output_type": "execute_result"
    }
   ],
   "source": [
    "fastfood.describe()"
   ]
  },
  {
   "attachments": {},
   "cell_type": "markdown",
   "metadata": {},
   "source": [
    "## 가게별로 메뉴가 몇 개 있는지 알아보기"
   ]
  },
  {
   "cell_type": "code",
   "execution_count": 30,
   "metadata": {},
   "outputs": [
    {
     "data": {
      "text/plain": [
       "Taco Bell      115\n",
       "Subway          96\n",
       "Burger King     70\n",
       "Mcdonalds       57\n",
       "Arbys           55\n",
       "Sonic           53\n",
       "Dairy Queen     42\n",
       "Chick Fil-A     27\n",
       "Name: restaurant, dtype: int64"
      ]
     },
     "execution_count": 30,
     "metadata": {},
     "output_type": "execute_result"
    }
   ],
   "source": [
    "fastfood['restaurant'].value_counts()"
   ]
  },
  {
   "cell_type": "code",
   "execution_count": 31,
   "metadata": {},
   "outputs": [
    {
     "data": {
      "image/png": "[encoded data removed]",
      "text/plain": [
       "<Figure size 1000x600 with 1 Axes>"
      ]
     },
     "metadata": {},
     "output_type": "display_data"
    }
   ],
   "source": [
    "fig = sns.catplot(x='restaurant', kind='count', data=fastfood)\n",
    "fig.fig.set_size_inches(10,6)\n",
    "plt.show()"
   ]
  },
  {
   "attachments": {},
   "cell_type": "markdown",
   "metadata": {},
   "source": [
    "- 다채롭게 먹고싶으면 타코벨로 가자"
   ]
  },
  {
   "attachments": {},
   "cell_type": "markdown",
   "metadata": {},
   "source": [
    "## 칼로리를 덜 섭취하고 싶을 때 어디서 먹는게 제일 좋은지"
   ]
  },
  {
   "cell_type": "code",
   "execution_count": 32,
   "metadata": {},
   "outputs": [
    {
     "data": {
      "text/html": [
       "<div>\n",
       "<style scoped>\n",
       "    .dataframe tbody tr th:only-of-type {\n",
       "        vertical-align: middle;\n",
       "    }\n",
       "\n",
       "    .dataframe tbody tr th {\n",
       "        vertical-align: top;\n",
       "    }\n",
       "\n",
       "    .dataframe thead th {\n",
       "        text-align: right;\n",
       "    }\n",
       "</style>\n",
       "<table border=\"1\" class=\"dataframe\">\n",
       "  <thead>\n",
       "    <tr style=\"text-align: right;\">\n",
       "      <th></th>\n",
       "      <th>calories</th>\n",
       "    </tr>\n",
       "    <tr>\n",
       "      <th>restaurant</th>\n",
       "      <th></th>\n",
       "    </tr>\n",
       "  </thead>\n",
       "  <tbody>\n",
       "    <tr>\n",
       "      <th>Arbys</th>\n",
       "      <td>532.727273</td>\n",
       "    </tr>\n",
       "    <tr>\n",
       "      <th>Burger King</th>\n",
       "      <td>608.571429</td>\n",
       "    </tr>\n",
       "    <tr>\n",
       "      <th>Chick Fil-A</th>\n",
       "      <td>384.444444</td>\n",
       "    </tr>\n",
       "    <tr>\n",
       "      <th>Dairy Queen</th>\n",
       "      <td>520.238095</td>\n",
       "    </tr>\n",
       "    <tr>\n",
       "      <th>Mcdonalds</th>\n",
       "      <td>640.350877</td>\n",
       "    </tr>\n",
       "    <tr>\n",
       "      <th>Sonic</th>\n",
       "      <td>631.698113</td>\n",
       "    </tr>\n",
       "    <tr>\n",
       "      <th>Subway</th>\n",
       "      <td>503.020833</td>\n",
       "    </tr>\n",
       "    <tr>\n",
       "      <th>Taco Bell</th>\n",
       "      <td>443.652174</td>\n",
       "    </tr>\n",
       "  </tbody>\n",
       "</table>\n",
       "</div>"
      ],
      "text/plain": [
       "               calories\n",
       "restaurant             \n",
       "Arbys        532.727273\n",
       "Burger King  608.571429\n",
       "Chick Fil-A  384.444444\n",
       "Dairy Queen  520.238095\n",
       "Mcdonalds    640.350877\n",
       "Sonic        631.698113\n",
       "Subway       503.020833\n",
       "Taco Bell    443.652174"
      ]
     },
     "execution_count": 32,
     "metadata": {},
     "output_type": "execute_result"
    }
   ],
   "source": [
    "# 식당에서 칼로리의 평균값을 구해보기\n",
    "\n",
    "cal_mean_res = fastfood[['calories','restaurant']].groupby(['restaurant']).mean()\n",
    "\n",
    "cal_mean_res"
   ]
  },
  {
   "cell_type": "code",
   "execution_count": 33,
   "metadata": {},
   "outputs": [
    {
     "data": {
      "image/png": "[encoded data removed]",
      "text/plain": [
       "<Figure size 1000x600 with 1 Axes>"
      ]
     },
     "metadata": {},
     "output_type": "display_data"
    }
   ],
   "source": [
    "fig = sns.catplot(x='restaurant', y='calories', kind=\"boxen\",data=fastfood)\n",
    "fig.fig.set_size_inches(10,6)\n",
    "plt.show()"
   ]
  },
  {
   "attachments": {},
   "cell_type": "markdown",
   "metadata": {},
   "source": [
    "- Chick Fil-A라는 곳이 칼로리가 낮은 것을 알 수 있음\n",
    "- 타코벨이 주변에 있으면 한국에서는 좋은 선택이 될 것 같음"
   ]
  },
  {
   "cell_type": "markdown",
   "metadata": {},
   "source": [
    "## 단백질을 잘 섭취하고 싶을 때 어디서 먹는게 제일 좋은지\n"
   ]
  },
  {
   "cell_type": "code",
   "execution_count": 34,
   "metadata": {},
   "outputs": [
    {
     "data": {
      "text/plain": [
       "205    Burger King\n",
       "Name: restaurant, dtype: object"
      ]
     },
     "execution_count": 34,
     "metadata": {},
     "output_type": "execute_result"
    }
   ],
   "source": [
    "# 단백질의 결손치가 있었는데 결손치가 나온 식당을 찾아보기\n",
    "\n",
    "fastfood['restaurant'][fastfood['protein'].isnull()]"
   ]
  },
  {
   "cell_type": "code",
   "execution_count": 35,
   "metadata": {},
   "outputs": [
    {
     "data": {
      "text/html": [
       "<div>\n",
       "<style scoped>\n",
       "    .dataframe tbody tr th:only-of-type {\n",
       "        vertical-align: middle;\n",
       "    }\n",
       "\n",
       "    .dataframe tbody tr th {\n",
       "        vertical-align: top;\n",
       "    }\n",
       "\n",
       "    .dataframe thead th {\n",
       "        text-align: right;\n",
       "    }\n",
       "</style>\n",
       "<table border=\"1\" class=\"dataframe\">\n",
       "  <thead>\n",
       "    <tr style=\"text-align: right;\">\n",
       "      <th></th>\n",
       "      <th>restaurant</th>\n",
       "      <th>item</th>\n",
       "      <th>calories</th>\n",
       "      <th>cal_fat</th>\n",
       "      <th>total_fat</th>\n",
       "      <th>sat_fat</th>\n",
       "      <th>trans_fat</th>\n",
       "      <th>cholesterol</th>\n",
       "      <th>sodium</th>\n",
       "      <th>total_carb</th>\n",
       "      <th>fiber</th>\n",
       "      <th>sugar</th>\n",
       "      <th>protein</th>\n",
       "      <th>vit_a</th>\n",
       "      <th>vit_c</th>\n",
       "      <th>calcium</th>\n",
       "      <th>salad</th>\n",
       "    </tr>\n",
       "  </thead>\n",
       "  <tbody>\n",
       "    <tr>\n",
       "      <th>205</th>\n",
       "      <td>Burger King</td>\n",
       "      <td>Farmhouse King</td>\n",
       "      <td>1220</td>\n",
       "      <td>720</td>\n",
       "      <td>80</td>\n",
       "      <td>28.0</td>\n",
       "      <td>3.0</td>\n",
       "      <td>335</td>\n",
       "      <td>2050</td>\n",
       "      <td>62</td>\n",
       "      <td>30.014493</td>\n",
       "      <td>15</td>\n",
       "      <td>30.014493</td>\n",
       "      <td>30.014493</td>\n",
       "      <td>30.014493</td>\n",
       "      <td>30.014493</td>\n",
       "      <td>Other</td>\n",
       "    </tr>\n",
       "  </tbody>\n",
       "</table>\n",
       "</div>"
      ],
      "text/plain": [
       "      restaurant            item  calories  cal_fat  total_fat  sat_fat  \\\n",
       "205  Burger King  Farmhouse King      1220      720         80     28.0   \n",
       "\n",
       "     trans_fat  cholesterol  sodium  total_carb      fiber  sugar    protein  \\\n",
       "205        3.0          335    2050          62  30.014493     15  30.014493   \n",
       "\n",
       "         vit_a      vit_c    calcium  salad  \n",
       "205  30.014493  30.014493  30.014493  Other  "
      ]
     },
     "execution_count": 35,
     "metadata": {},
     "output_type": "execute_result"
    }
   ],
   "source": [
    "# Buger King의 protein mean값을 넣어주기\n",
    "protein_mean_buggerking = fastfood['protein'][fastfood['restaurant']=='Burger King'].mean()\n",
    "\n",
    "fastfood[fastfood['protein'].isnull()].fillna(protein_mean_buggerking)"
   ]
  },
  {
   "cell_type": "code",
   "execution_count": 36,
   "metadata": {},
   "outputs": [
    {
     "data": {
      "text/html": [
       "<div>\n",
       "<style scoped>\n",
       "    .dataframe tbody tr th:only-of-type {\n",
       "        vertical-align: middle;\n",
       "    }\n",
       "\n",
       "    .dataframe tbody tr th {\n",
       "        vertical-align: top;\n",
       "    }\n",
       "\n",
       "    .dataframe thead th {\n",
       "        text-align: right;\n",
       "    }\n",
       "</style>\n",
       "<table border=\"1\" class=\"dataframe\">\n",
       "  <thead>\n",
       "    <tr style=\"text-align: right;\">\n",
       "      <th></th>\n",
       "      <th>protein</th>\n",
       "    </tr>\n",
       "    <tr>\n",
       "      <th>restaurant</th>\n",
       "      <th></th>\n",
       "    </tr>\n",
       "  </thead>\n",
       "  <tbody>\n",
       "    <tr>\n",
       "      <th>Arbys</th>\n",
       "      <td>29.254545</td>\n",
       "    </tr>\n",
       "    <tr>\n",
       "      <th>Burger King</th>\n",
       "      <td>30.014493</td>\n",
       "    </tr>\n",
       "    <tr>\n",
       "      <th>Chick Fil-A</th>\n",
       "      <td>31.703704</td>\n",
       "    </tr>\n",
       "    <tr>\n",
       "      <th>Dairy Queen</th>\n",
       "      <td>24.833333</td>\n",
       "    </tr>\n",
       "    <tr>\n",
       "      <th>Mcdonalds</th>\n",
       "      <td>40.298246</td>\n",
       "    </tr>\n",
       "    <tr>\n",
       "      <th>Sonic</th>\n",
       "      <td>29.188679</td>\n",
       "    </tr>\n",
       "    <tr>\n",
       "      <th>Subway</th>\n",
       "      <td>30.312500</td>\n",
       "    </tr>\n",
       "    <tr>\n",
       "      <th>Taco Bell</th>\n",
       "      <td>17.417391</td>\n",
       "    </tr>\n",
       "  </tbody>\n",
       "</table>\n",
       "</div>"
      ],
      "text/plain": [
       "               protein\n",
       "restaurant            \n",
       "Arbys        29.254545\n",
       "Burger King  30.014493\n",
       "Chick Fil-A  31.703704\n",
       "Dairy Queen  24.833333\n",
       "Mcdonalds    40.298246\n",
       "Sonic        29.188679\n",
       "Subway       30.312500\n",
       "Taco Bell    17.417391"
      ]
     },
     "execution_count": 36,
     "metadata": {},
     "output_type": "execute_result"
    }
   ],
   "source": [
    "# 식당에서 단백질의 평균값을 구해보기\n",
    "\n",
    "prot_mean_res = fastfood[['protein','restaurant']].groupby(['restaurant']).mean()\n",
    "\n",
    "prot_mean_res"
   ]
  },
  {
   "cell_type": "code",
   "execution_count": 37,
   "metadata": {},
   "outputs": [
    {
     "data": {
      "image/png": "[encoded data removed]",
      "text/plain": [
       "<Figure size 1000x600 with 1 Axes>"
      ]
     },
     "metadata": {},
     "output_type": "display_data"
    }
   ],
   "source": [
    "fig = sns.catplot(x='restaurant', y='protein', kind=\"boxen\",data=fastfood)\n",
    "fig.fig.set_size_inches(10,6)\n",
    "plt.show()"
   ]
  },
  {
   "attachments": {},
   "cell_type": "markdown",
   "metadata": {},
   "source": [
    "- 단백질 평균값은 맥도날드가 높긴하다\n",
    "- 하지만 칼로리를 생각했을 때 맥도날드의 제품을 골라야하는가 생각이듬\n",
    "    - 위의 문제를 해결하기위해 성분들의 평균을 넣어 각 제품마다 영양성분비율의 Pie Chart 생각 가능\n",
    "- 타코벨을 제외한 제품들의 단백질 평균은 비슷\n",
    "- 하지만 박스를 비교해서 서브웨이가 단백질 함량 제품이 많은 것을 알 수 있음"
   ]
  },
  {
   "cell_type": "markdown",
   "metadata": {},
   "source": [
    "## 탄수화물을 섭취해야하는데 단당류 비율이 적은 복합탄수화물이 먹고싶을 때"
   ]
  },
  {
   "cell_type": "code",
   "execution_count": 38,
   "metadata": {},
   "outputs": [
    {
     "data": {
      "text/html": [
       "<div>\n",
       "<style scoped>\n",
       "    .dataframe tbody tr th:only-of-type {\n",
       "        vertical-align: middle;\n",
       "    }\n",
       "\n",
       "    .dataframe tbody tr th {\n",
       "        vertical-align: top;\n",
       "    }\n",
       "\n",
       "    .dataframe thead th {\n",
       "        text-align: right;\n",
       "    }\n",
       "</style>\n",
       "<table border=\"1\" class=\"dataframe\">\n",
       "  <thead>\n",
       "    <tr style=\"text-align: right;\">\n",
       "      <th></th>\n",
       "      <th>total_carb</th>\n",
       "      <th>sugar</th>\n",
       "    </tr>\n",
       "    <tr>\n",
       "      <th>restaurant</th>\n",
       "      <th></th>\n",
       "      <th></th>\n",
       "    </tr>\n",
       "  </thead>\n",
       "  <tbody>\n",
       "    <tr>\n",
       "      <th>Arbys</th>\n",
       "      <td>44.872727</td>\n",
       "      <td>7.563636</td>\n",
       "    </tr>\n",
       "    <tr>\n",
       "      <th>Burger King</th>\n",
       "      <td>39.314286</td>\n",
       "      <td>8.185714</td>\n",
       "    </tr>\n",
       "    <tr>\n",
       "      <th>Chick Fil-A</th>\n",
       "      <td>28.629630</td>\n",
       "      <td>4.148148</td>\n",
       "    </tr>\n",
       "    <tr>\n",
       "      <th>Dairy Queen</th>\n",
       "      <td>38.690476</td>\n",
       "      <td>6.357143</td>\n",
       "    </tr>\n",
       "    <tr>\n",
       "      <th>Mcdonalds</th>\n",
       "      <td>48.789474</td>\n",
       "      <td>11.070175</td>\n",
       "    </tr>\n",
       "    <tr>\n",
       "      <th>Sonic</th>\n",
       "      <td>47.207547</td>\n",
       "      <td>6.528302</td>\n",
       "    </tr>\n",
       "    <tr>\n",
       "      <th>Subway</th>\n",
       "      <td>54.718750</td>\n",
       "      <td>10.093750</td>\n",
       "    </tr>\n",
       "    <tr>\n",
       "      <th>Taco Bell</th>\n",
       "      <td>46.634783</td>\n",
       "      <td>3.704348</td>\n",
       "    </tr>\n",
       "  </tbody>\n",
       "</table>\n",
       "</div>"
      ],
      "text/plain": [
       "             total_carb      sugar\n",
       "restaurant                        \n",
       "Arbys         44.872727   7.563636\n",
       "Burger King   39.314286   8.185714\n",
       "Chick Fil-A   28.629630   4.148148\n",
       "Dairy Queen   38.690476   6.357143\n",
       "Mcdonalds     48.789474  11.070175\n",
       "Sonic         47.207547   6.528302\n",
       "Subway        54.718750  10.093750\n",
       "Taco Bell     46.634783   3.704348"
      ]
     },
     "execution_count": 38,
     "metadata": {},
     "output_type": "execute_result"
    }
   ],
   "source": [
    "# total_carb / sugar 의 비율이 중요하다.\n",
    "\n",
    "rate_carb_mean_res = fastfood[['total_carb','sugar','restaurant']].groupby(['restaurant']).mean()\n",
    "\n",
    "rate_carb_mean_res"
   ]
  },
  {
   "cell_type": "code",
   "execution_count": 39,
   "metadata": {},
   "outputs": [
    {
     "data": {
      "text/html": [
       "<div>\n",
       "<style scoped>\n",
       "    .dataframe tbody tr th:only-of-type {\n",
       "        vertical-align: middle;\n",
       "    }\n",
       "\n",
       "    .dataframe tbody tr th {\n",
       "        vertical-align: top;\n",
       "    }\n",
       "\n",
       "    .dataframe thead th {\n",
       "        text-align: right;\n",
       "    }\n",
       "</style>\n",
       "<table border=\"1\" class=\"dataframe\">\n",
       "  <thead>\n",
       "    <tr style=\"text-align: right;\">\n",
       "      <th></th>\n",
       "      <th>total_carb</th>\n",
       "      <th>sugar</th>\n",
       "      <th>rateCarb</th>\n",
       "    </tr>\n",
       "    <tr>\n",
       "      <th>restaurant</th>\n",
       "      <th></th>\n",
       "      <th></th>\n",
       "      <th></th>\n",
       "    </tr>\n",
       "  </thead>\n",
       "  <tbody>\n",
       "    <tr>\n",
       "      <th>Arbys</th>\n",
       "      <td>44.872727</td>\n",
       "      <td>7.563636</td>\n",
       "      <td>5.932692</td>\n",
       "    </tr>\n",
       "    <tr>\n",
       "      <th>Burger King</th>\n",
       "      <td>39.314286</td>\n",
       "      <td>8.185714</td>\n",
       "      <td>4.802792</td>\n",
       "    </tr>\n",
       "    <tr>\n",
       "      <th>Chick Fil-A</th>\n",
       "      <td>28.629630</td>\n",
       "      <td>4.148148</td>\n",
       "      <td>6.901786</td>\n",
       "    </tr>\n",
       "    <tr>\n",
       "      <th>Dairy Queen</th>\n",
       "      <td>38.690476</td>\n",
       "      <td>6.357143</td>\n",
       "      <td>6.086142</td>\n",
       "    </tr>\n",
       "    <tr>\n",
       "      <th>Mcdonalds</th>\n",
       "      <td>48.789474</td>\n",
       "      <td>11.070175</td>\n",
       "      <td>4.407290</td>\n",
       "    </tr>\n",
       "    <tr>\n",
       "      <th>Sonic</th>\n",
       "      <td>47.207547</td>\n",
       "      <td>6.528302</td>\n",
       "      <td>7.231214</td>\n",
       "    </tr>\n",
       "    <tr>\n",
       "      <th>Subway</th>\n",
       "      <td>54.718750</td>\n",
       "      <td>10.093750</td>\n",
       "      <td>5.421053</td>\n",
       "    </tr>\n",
       "    <tr>\n",
       "      <th>Taco Bell</th>\n",
       "      <td>46.634783</td>\n",
       "      <td>3.704348</td>\n",
       "      <td>12.589202</td>\n",
       "    </tr>\n",
       "  </tbody>\n",
       "</table>\n",
       "</div>"
      ],
      "text/plain": [
       "             total_carb      sugar   rateCarb\n",
       "restaurant                                   \n",
       "Arbys         44.872727   7.563636   5.932692\n",
       "Burger King   39.314286   8.185714   4.802792\n",
       "Chick Fil-A   28.629630   4.148148   6.901786\n",
       "Dairy Queen   38.690476   6.357143   6.086142\n",
       "Mcdonalds     48.789474  11.070175   4.407290\n",
       "Sonic         47.207547   6.528302   7.231214\n",
       "Subway        54.718750  10.093750   5.421053\n",
       "Taco Bell     46.634783   3.704348  12.589202"
      ]
     },
     "execution_count": 39,
     "metadata": {},
     "output_type": "execute_result"
    }
   ],
   "source": [
    "# column 추가\n",
    "\n",
    "rate_carb_mean_res['rateCarb'] = rate_carb_mean_res['total_carb'] /  rate_carb_mean_res['sugar']\n",
    "\n",
    "rate_carb_mean_res"
   ]
  },
  {
   "cell_type": "code",
   "execution_count": 40,
   "metadata": {},
   "outputs": [
    {
     "data": {
      "image/png": "[encoded data removed]",
      "text/plain": [
       "<Figure size 640x480 with 1 Axes>"
      ]
     },
     "metadata": {},
     "output_type": "display_data"
    }
   ],
   "source": [
    "plt.pie(rate_carb_mean_res['rateCarb'], labels=rate_carb_mean_res.index)\n",
    "\n",
    "plt.show()"
   ]
  },
  {
   "attachments": {},
   "cell_type": "markdown",
   "metadata": {},
   "source": [
    "- 타코벨이 압도적으로 단당류가 적어서 복합 탄수화물 섭취에 용이한 것을 알 수 있다"
   ]
  }
 ],
 "metadata": {
  "kernelspec": {
   "display_name": "Python 3",
   "language": "python",
   "name": "python3"
  },
  "language_info": {
   "codemirror_mode": {
    "name": "ipython",
    "version": 3
   },
   "file_extension": ".py",
   "mimetype": "text/x-python",
   "name": "python",
   "nbconvert_exporter": "python",
   "pygments_lexer": "ipython3",
   "version": "3.7.9"
  }
 },
 "nbformat": 4,
 "nbformat_minor": 4
}
